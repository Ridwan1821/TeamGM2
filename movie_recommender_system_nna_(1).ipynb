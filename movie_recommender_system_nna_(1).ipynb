{
  "cells": [
    {
      "cell_type": "markdown",
      "metadata": {
        "id": "view-in-github",
        "colab_type": "text"
      },
      "source": [
        "<a href=\"https://colab.research.google.com/github/Ridwan1821/TeamGM2/blob/nnaemeka/movie_recommender_system_nna_(1).ipynb\" target=\"_parent\"><img src=\"https://colab.research.google.com/assets/colab-badge.svg\" alt=\"Open In Colab\"/></a>"
      ]
    },
    {
      "cell_type": "markdown",
      "metadata": {
        "id": "ycKhiV0MAdWL"
      },
      "source": [
        "Connect Kaggle to Google Collab"
      ]
    },
    {
      "cell_type": "code",
      "execution_count": null,
      "metadata": {
        "id": "hFPFIv_9_jgy"
      },
      "outputs": [],
      "source": [
        "! pip install -q kaggle"
      ]
    },
    {
      "cell_type": "code",
      "execution_count": null,
      "metadata": {
        "id": "mokPDjO0_2-g"
      },
      "outputs": [],
      "source": [
        "from google.colab import files"
      ]
    },
    {
      "cell_type": "code",
      "execution_count": null,
      "metadata": {
        "colab": {
          "base_uri": "https://localhost:8080/",
          "height": 38
        },
        "id": "IJbTiWWk_7Em",
        "outputId": "d107b6be-c7cc-4982-b85b-e9b3ee251bfe"
      },
      "outputs": [
        {
          "data": {
            "text/html": [
              "\n",
              "     <input type=\"file\" id=\"files-e2965222-a134-459f-98de-0a714245fc7a\" name=\"files[]\" multiple disabled\n",
              "        style=\"border:none\" />\n",
              "     <output id=\"result-e2965222-a134-459f-98de-0a714245fc7a\">\n",
              "      Upload widget is only available when the cell has been executed in the\n",
              "      current browser session. Please rerun this cell to enable.\n",
              "      </output>\n",
              "      <script>// Copyright 2017 Google LLC\n",
              "//\n",
              "// Licensed under the Apache License, Version 2.0 (the \"License\");\n",
              "// you may not use this file except in compliance with the License.\n",
              "// You may obtain a copy of the License at\n",
              "//\n",
              "//      http://www.apache.org/licenses/LICENSE-2.0\n",
              "//\n",
              "// Unless required by applicable law or agreed to in writing, software\n",
              "// distributed under the License is distributed on an \"AS IS\" BASIS,\n",
              "// WITHOUT WARRANTIES OR CONDITIONS OF ANY KIND, either express or implied.\n",
              "// See the License for the specific language governing permissions and\n",
              "// limitations under the License.\n",
              "\n",
              "/**\n",
              " * @fileoverview Helpers for google.colab Python module.\n",
              " */\n",
              "(function(scope) {\n",
              "function span(text, styleAttributes = {}) {\n",
              "  const element = document.createElement('span');\n",
              "  element.textContent = text;\n",
              "  for (const key of Object.keys(styleAttributes)) {\n",
              "    element.style[key] = styleAttributes[key];\n",
              "  }\n",
              "  return element;\n",
              "}\n",
              "\n",
              "// Max number of bytes which will be uploaded at a time.\n",
              "const MAX_PAYLOAD_SIZE = 100 * 1024;\n",
              "\n",
              "function _uploadFiles(inputId, outputId) {\n",
              "  const steps = uploadFilesStep(inputId, outputId);\n",
              "  const outputElement = document.getElementById(outputId);\n",
              "  // Cache steps on the outputElement to make it available for the next call\n",
              "  // to uploadFilesContinue from Python.\n",
              "  outputElement.steps = steps;\n",
              "\n",
              "  return _uploadFilesContinue(outputId);\n",
              "}\n",
              "\n",
              "// This is roughly an async generator (not supported in the browser yet),\n",
              "// where there are multiple asynchronous steps and the Python side is going\n",
              "// to poll for completion of each step.\n",
              "// This uses a Promise to block the python side on completion of each step,\n",
              "// then passes the result of the previous step as the input to the next step.\n",
              "function _uploadFilesContinue(outputId) {\n",
              "  const outputElement = document.getElementById(outputId);\n",
              "  const steps = outputElement.steps;\n",
              "\n",
              "  const next = steps.next(outputElement.lastPromiseValue);\n",
              "  return Promise.resolve(next.value.promise).then((value) => {\n",
              "    // Cache the last promise value to make it available to the next\n",
              "    // step of the generator.\n",
              "    outputElement.lastPromiseValue = value;\n",
              "    return next.value.response;\n",
              "  });\n",
              "}\n",
              "\n",
              "/**\n",
              " * Generator function which is called between each async step of the upload\n",
              " * process.\n",
              " * @param {string} inputId Element ID of the input file picker element.\n",
              " * @param {string} outputId Element ID of the output display.\n",
              " * @return {!Iterable<!Object>} Iterable of next steps.\n",
              " */\n",
              "function* uploadFilesStep(inputId, outputId) {\n",
              "  const inputElement = document.getElementById(inputId);\n",
              "  inputElement.disabled = false;\n",
              "\n",
              "  const outputElement = document.getElementById(outputId);\n",
              "  outputElement.innerHTML = '';\n",
              "\n",
              "  const pickedPromise = new Promise((resolve) => {\n",
              "    inputElement.addEventListener('change', (e) => {\n",
              "      resolve(e.target.files);\n",
              "    });\n",
              "  });\n",
              "\n",
              "  const cancel = document.createElement('button');\n",
              "  inputElement.parentElement.appendChild(cancel);\n",
              "  cancel.textContent = 'Cancel upload';\n",
              "  const cancelPromise = new Promise((resolve) => {\n",
              "    cancel.onclick = () => {\n",
              "      resolve(null);\n",
              "    };\n",
              "  });\n",
              "\n",
              "  // Wait for the user to pick the files.\n",
              "  const files = yield {\n",
              "    promise: Promise.race([pickedPromise, cancelPromise]),\n",
              "    response: {\n",
              "      action: 'starting',\n",
              "    }\n",
              "  };\n",
              "\n",
              "  cancel.remove();\n",
              "\n",
              "  // Disable the input element since further picks are not allowed.\n",
              "  inputElement.disabled = true;\n",
              "\n",
              "  if (!files) {\n",
              "    return {\n",
              "      response: {\n",
              "        action: 'complete',\n",
              "      }\n",
              "    };\n",
              "  }\n",
              "\n",
              "  for (const file of files) {\n",
              "    const li = document.createElement('li');\n",
              "    li.append(span(file.name, {fontWeight: 'bold'}));\n",
              "    li.append(span(\n",
              "        `(${file.type || 'n/a'}) - ${file.size} bytes, ` +\n",
              "        `last modified: ${\n",
              "            file.lastModifiedDate ? file.lastModifiedDate.toLocaleDateString() :\n",
              "                                    'n/a'} - `));\n",
              "    const percent = span('0% done');\n",
              "    li.appendChild(percent);\n",
              "\n",
              "    outputElement.appendChild(li);\n",
              "\n",
              "    const fileDataPromise = new Promise((resolve) => {\n",
              "      const reader = new FileReader();\n",
              "      reader.onload = (e) => {\n",
              "        resolve(e.target.result);\n",
              "      };\n",
              "      reader.readAsArrayBuffer(file);\n",
              "    });\n",
              "    // Wait for the data to be ready.\n",
              "    let fileData = yield {\n",
              "      promise: fileDataPromise,\n",
              "      response: {\n",
              "        action: 'continue',\n",
              "      }\n",
              "    };\n",
              "\n",
              "    // Use a chunked sending to avoid message size limits. See b/62115660.\n",
              "    let position = 0;\n",
              "    do {\n",
              "      const length = Math.min(fileData.byteLength - position, MAX_PAYLOAD_SIZE);\n",
              "      const chunk = new Uint8Array(fileData, position, length);\n",
              "      position += length;\n",
              "\n",
              "      const base64 = btoa(String.fromCharCode.apply(null, chunk));\n",
              "      yield {\n",
              "        response: {\n",
              "          action: 'append',\n",
              "          file: file.name,\n",
              "          data: base64,\n",
              "        },\n",
              "      };\n",
              "\n",
              "      let percentDone = fileData.byteLength === 0 ?\n",
              "          100 :\n",
              "          Math.round((position / fileData.byteLength) * 100);\n",
              "      percent.textContent = `${percentDone}% done`;\n",
              "\n",
              "    } while (position < fileData.byteLength);\n",
              "  }\n",
              "\n",
              "  // All done.\n",
              "  yield {\n",
              "    response: {\n",
              "      action: 'complete',\n",
              "    }\n",
              "  };\n",
              "}\n",
              "\n",
              "scope.google = scope.google || {};\n",
              "scope.google.colab = scope.google.colab || {};\n",
              "scope.google.colab._files = {\n",
              "  _uploadFiles,\n",
              "  _uploadFilesContinue,\n",
              "};\n",
              "})(self);\n",
              "</script> "
            ],
            "text/plain": [
              "<IPython.core.display.HTML object>"
            ]
          },
          "metadata": {},
          "output_type": "display_data"
        }
      ],
      "source": [
        "files.upload()"
      ]
    },
    {
      "cell_type": "code",
      "execution_count": null,
      "metadata": {
        "colab": {
          "background_save": true
        },
        "id": "g9IsrSbm_4NR"
      },
      "outputs": [],
      "source": [
        "! mkdir ~/.kaggle\n",
        "! cp kaggle.json ~/.kaggle/"
      ]
    },
    {
      "cell_type": "code",
      "execution_count": null,
      "metadata": {
        "colab": {
          "background_save": true
        },
        "id": "3UsGh40PAP4_"
      },
      "outputs": [],
      "source": [
        "! chmod 600 ~/.kaggle/kaggle.json"
      ]
    },
    {
      "cell_type": "code",
      "execution_count": null,
      "metadata": {
        "colab": {
          "background_save": true
        },
        "id": "RtT6CjrXAlv4"
      },
      "outputs": [],
      "source": [
        "! kaggle datasets list"
      ]
    },
    {
      "cell_type": "code",
      "execution_count": null,
      "metadata": {
        "colab": {
          "background_save": true
        },
        "id": "XiebweVkA6Tw"
      },
      "outputs": [],
      "source": [
        "# download data from kaggle into collab\n",
        "#! kaggle competitions download -c 'EDSA-Movie-Recommendation-Predict'"
      ]
    },
    {
      "cell_type": "code",
      "execution_count": null,
      "metadata": {
        "colab": {
          "background_save": true
        },
        "id": "S_8mmyOhDAr3"
      },
      "outputs": [],
      "source": [
        "# make directory named movies and unzip the downloaded file into it\n",
        "#! mkdir movies\n",
        "#! unzip EDSA-Movie-Recommendation-Predict.zip -d movies"
      ]
    },
    {
      "cell_type": "code",
      "execution_count": null,
      "metadata": {
        "colab": {
          "background_save": true
        },
        "id": "SDPDKvGs_Ull"
      },
      "outputs": [],
      "source": []
    },
    {
      "cell_type": "markdown",
      "metadata": {
        "id": "3hDn2VVY_Ulq"
      },
      "source": [
        "**1.** **Introduction**"
      ]
    },
    {
      "cell_type": "markdown",
      "metadata": {
        "id": "MiD8a66F_Uls"
      },
      "source": [
        "![](https://miro.medium.com/max/1400/0*NqJrlluUhlcZvGTx)"
      ]
    },
    {
      "cell_type": "markdown",
      "metadata": {
        "id": "hf-CwdhV_Uls"
      },
      "source": [
        "The [recommender system](https://en.wikipedia.org/wiki/Recommender_system) is a data science algorithm we employ to suggest items to users of a platform based on their product preferences or personal lifestyle. Recommender systems are particularly useful when an individual needs to choose an item from a potentially overwhelming number of items that a service may offer.\n",
        "\n",
        "From Facebook, Amazon, DataQuest down to every e-commerce website, recommender systems are used to suggest a new friend, what product a customer might like or another course a student should sign up for."
      ]
    },
    {
      "cell_type": "markdown",
      "metadata": {
        "id": "IkQTTUKl_Ult"
      },
      "source": [
        "**1.2** **Problem Statement**\n",
        "\n",
        "In this challenge, we want to build a Collaborative Filtering model that will effectively recommend best movies to a customer based on their personal preferences."
      ]
    },
    {
      "cell_type": "markdown",
      "metadata": {
        "id": "9vaAuODX_Ulu"
      },
      "source": [
        "**1.3 The Dataset**\n",
        "\n",
        "For this challenge, we have been provided with a pack of dateset with millions of movie data. "
      ]
    },
    {
      "cell_type": "markdown",
      "metadata": {
        "id": "PC7v2Ep8_Ulu"
      },
      "source": []
    },
    {
      "cell_type": "markdown",
      "metadata": {
        "id": "q2jFjC4I_Ulv"
      },
      "source": [
        "# **2.** **Libraries and Dataset**\n",
        "\n"
      ]
    },
    {
      "cell_type": "markdown",
      "metadata": {
        "id": "96Q6eNrJ_Ulw"
      },
      "source": [
        "**2.1 Import required libraries**\n",
        "\n",
        "We import inbuilt python libraries to help us with the task."
      ]
    },
    {
      "cell_type": "code",
      "execution_count": null,
      "metadata": {
        "colab": {
          "background_save": true
        },
        "id": "biG895uM_Ulw"
      },
      "outputs": [],
      "source": [
        "#import data manipulation libraries\n",
        "import pandas as pd\n",
        "import numpy as np\n",
        "import scipy as sp\n",
        "\n",
        "#import data visualization tools\n",
        "import matplotlib.pyplot as plt\n",
        "import seaborn as sns\n",
        "\n",
        "#import machine learning tools\n",
        "from sklearn.preprocessing import StandardScaler\n"
      ]
    },
    {
      "cell_type": "markdown",
      "metadata": {
        "id": "Zj2h3hPX_Ulx"
      },
      "source": [
        "# **2.2 Load Datasets**"
      ]
    },
    {
      "cell_type": "markdown",
      "metadata": {
        "id": "dTPxMRBd_Ulx"
      },
      "source": [
        "**2.2.1 genome scores data**"
      ]
    },
    {
      "cell_type": "code",
      "execution_count": null,
      "metadata": {
        "colab": {
          "background_save": true
        },
        "id": "69WCkQ8r_Ulx"
      },
      "outputs": [],
      "source": [
        "# Load genome scores data\n",
        "gs = pd.read_csv('movies/genome_scores.csv')\n",
        "\n",
        "#check number of rows and columns availbale\n",
        "print('Rows -', gs.shape[0], '\\nColumns -', gs.shape[1], '\\n')\n",
        "\n",
        "gs.head()"
      ]
    },
    {
      "cell_type": "markdown",
      "metadata": {
        "id": "fxtc5gaj_Ulx"
      },
      "source": [
        "**2.2.2 genome tags data**"
      ]
    },
    {
      "cell_type": "code",
      "execution_count": null,
      "metadata": {
        "colab": {
          "background_save": true
        },
        "id": "tl2qDLFN_Uly"
      },
      "outputs": [],
      "source": [
        "gt = pd.read_csv('movies/genome_tags.csv')\n",
        "\n",
        "#check number of rows and columns availbale\n",
        "print('Rows -', gt.shape[0], '\\nColumns -', gt.shape[1], '\\n')\n",
        "\n",
        "gt.head()"
      ]
    },
    {
      "cell_type": "markdown",
      "metadata": {
        "id": "fo9JsP7s_Uly"
      },
      "source": [
        "**2.2.3 IMDB data**"
      ]
    },
    {
      "cell_type": "code",
      "execution_count": null,
      "metadata": {
        "colab": {
          "background_save": true
        },
        "id": "ysCY1MWX_Uly"
      },
      "outputs": [],
      "source": [
        "imd = pd.read_csv('movies/imdb_data.csv')\n",
        "#check number of rows and columns availbale\n",
        "print('Rows -', imd.shape[0], '\\nColumns -', imd.shape[1], '\\n')\n",
        "\n",
        "imd.head()"
      ]
    },
    {
      "cell_type": "code",
      "execution_count": null,
      "metadata": {
        "colab": {
          "background_save": true
        },
        "id": "gWC_B43m_Uly"
      },
      "outputs": [],
      "source": [
        "# check count of observations and presence of missing values\n",
        "imd.info()"
      ]
    },
    {
      "cell_type": "markdown",
      "metadata": {
        "id": "uxot3wOa_Ulz"
      },
      "source": [
        "The `imd.info()` check above reveals the `imd` data has missing values in the `title_cast`, `director`, `runtime`, `budeget` and `plot_keywords` columns."
      ]
    },
    {
      "cell_type": "markdown",
      "metadata": {
        "id": "Q3FRINqF_Ulz"
      },
      "source": [
        "**2.2.4 links dataset**"
      ]
    },
    {
      "cell_type": "code",
      "execution_count": null,
      "metadata": {
        "colab": {
          "background_save": true
        },
        "id": "S4-DDkcO_Ulz"
      },
      "outputs": [],
      "source": [
        "# load links dataset\n",
        "ld = pd.read_csv('movies/links.csv')\n",
        "ld.head()"
      ]
    },
    {
      "cell_type": "markdown",
      "metadata": {
        "id": "86kyIMzC_Ulz"
      },
      "source": [
        "**2.2.5 movies meta dataset**"
      ]
    },
    {
      "cell_type": "code",
      "execution_count": null,
      "metadata": {
        "colab": {
          "background_save": true
        },
        "id": "5OimDIqw_Ulz"
      },
      "outputs": [],
      "source": [
        "# load movies dataset\n",
        "mv = pd.read_csv('movies/movies.csv')\n",
        "mv.head()"
      ]
    },
    {
      "cell_type": "code",
      "execution_count": null,
      "metadata": {
        "colab": {
          "background_save": true
        },
        "id": "S2wwRNm7_Ul0"
      },
      "outputs": [],
      "source": [
        "mv.shape"
      ]
    },
    {
      "cell_type": "markdown",
      "metadata": {
        "id": "bXNUrGdc_Ul0"
      },
      "source": [
        "**2.2.6 sample submission file**\n",
        "\n",
        "Let's a sample file for making the challenge submission."
      ]
    },
    {
      "cell_type": "code",
      "execution_count": null,
      "metadata": {
        "colab": {
          "background_save": true
        },
        "id": "un3-UFnh_Ul0"
      },
      "outputs": [],
      "source": [
        "ss = pd.read_csv('movies/sample_submission.csv')\n",
        "ss.head()"
      ]
    },
    {
      "cell_type": "markdown",
      "metadata": {
        "id": "99R-nBJr_Ul0"
      },
      "source": [
        "**2.2.7 tags data**"
      ]
    },
    {
      "cell_type": "code",
      "execution_count": null,
      "metadata": {
        "colab": {
          "background_save": true
        },
        "id": "Vu4gnGxX_Ul1"
      },
      "outputs": [],
      "source": [
        "#load the tags dataset\n",
        "tg = pd.read_csv('movies/tags.csv')\n",
        "tg.head()"
      ]
    },
    {
      "cell_type": "code",
      "execution_count": null,
      "metadata": {
        "colab": {
          "background_save": true
        },
        "id": "4oZiYev5_Ul1"
      },
      "outputs": [],
      "source": [
        "# check for missing values in the data\n",
        "tg.info()"
      ]
    },
    {
      "cell_type": "markdown",
      "metadata": {
        "id": "gakuoqyC_Ul1"
      },
      "source": [
        "Only the `tag` column has missing data - very insignificant count at first glance."
      ]
    },
    {
      "cell_type": "code",
      "execution_count": null,
      "metadata": {
        "colab": {
          "background_save": true
        },
        "id": "74MxCXb8_Ul1"
      },
      "outputs": [],
      "source": [
        "# missing values < 0.01%\n",
        "((len(tg) - tg.tag.count())/len(tg)) * 100"
      ]
    },
    {
      "cell_type": "markdown",
      "metadata": {
        "id": "BhOdbdfj_Ul1"
      },
      "source": [
        "**2.2.8 test data**"
      ]
    },
    {
      "cell_type": "code",
      "execution_count": null,
      "metadata": {
        "colab": {
          "background_save": true
        },
        "id": "BqKrB5IF_Ul2"
      },
      "outputs": [],
      "source": [
        "#load test data\n",
        "ts = pd.read_csv('movies/test.csv')\n",
        "ts.head()"
      ]
    },
    {
      "cell_type": "code",
      "execution_count": null,
      "metadata": {
        "colab": {
          "background_save": true
        },
        "id": "tV0ZBQrR_Ul2"
      },
      "outputs": [],
      "source": [
        "# create a column of userId and movieId\n",
        "#ts['user_movie'] = ts.apply(lambda x: '%s_%s' %(x['userId'], x['movieId']), axis = 1)\n"
      ]
    },
    {
      "cell_type": "markdown",
      "metadata": {
        "id": "2Sjrn7PQ_Ul2"
      },
      "source": [
        "**2.2.9 train data**"
      ]
    },
    {
      "cell_type": "code",
      "execution_count": null,
      "metadata": {
        "colab": {
          "background_save": true
        },
        "id": "pX0BC1Y__Ul2"
      },
      "outputs": [],
      "source": [
        "tr = pd.read_csv('movies/train.csv')\n",
        "tr.head()"
      ]
    },
    {
      "cell_type": "markdown",
      "metadata": {
        "id": "8snJQvJ4_Ul2"
      },
      "source": [
        "# **3. Exploratory Data Analysis**"
      ]
    },
    {
      "cell_type": "markdown",
      "metadata": {
        "id": "dByxkqvr_Ul2"
      },
      "source": [
        "**3.1.1 genome scores data**"
      ]
    },
    {
      "cell_type": "code",
      "execution_count": null,
      "metadata": {
        "colab": {
          "background_save": true
        },
        "id": "1bsIW0gh_Ul3"
      },
      "outputs": [],
      "source": [
        "# check data details\n",
        "gs.info()"
      ]
    },
    {
      "cell_type": "code",
      "execution_count": null,
      "metadata": {
        "colab": {
          "background_save": true
        },
        "id": "cZRCMfca_Ul3"
      },
      "outputs": [],
      "source": [
        "# percentage missing values\n",
        "gs.isnull().mean()"
      ]
    },
    {
      "cell_type": "code",
      "execution_count": null,
      "metadata": {
        "colab": {
          "background_save": true
        },
        "id": "t5oXRwBw_Ul3"
      },
      "outputs": [],
      "source": [
        "# summary statistics of data\n",
        "gs.describe().T"
      ]
    },
    {
      "cell_type": "markdown",
      "metadata": {
        "id": "c-yDhlW__Ul3"
      },
      "source": [
        "**3.1.2 genome tags**\n"
      ]
    },
    {
      "cell_type": "code",
      "execution_count": null,
      "metadata": {
        "colab": {
          "background_save": true
        },
        "id": "X0YirEGO_Ul3"
      },
      "outputs": [],
      "source": [
        "gt.info()"
      ]
    },
    {
      "cell_type": "markdown",
      "metadata": {
        "id": "fFRv7YFB_Ul4"
      },
      "source": [
        "genome tags data has no missing values."
      ]
    },
    {
      "cell_type": "code",
      "execution_count": null,
      "metadata": {
        "colab": {
          "background_save": true
        },
        "id": "1gCw3Enp_Ul4"
      },
      "outputs": [],
      "source": [
        "# summary statistics\n",
        "gt.describe().T"
      ]
    },
    {
      "cell_type": "markdown",
      "metadata": {
        "id": "PsPumI6u_Ul4"
      },
      "source": [
        "**3.1.3 imbd data**"
      ]
    },
    {
      "cell_type": "code",
      "execution_count": null,
      "metadata": {
        "colab": {
          "background_save": true
        },
        "id": "z41k-tnD_Ul4"
      },
      "outputs": [],
      "source": [
        "# check data details\n",
        "imd.info()"
      ]
    },
    {
      "cell_type": "code",
      "execution_count": null,
      "metadata": {
        "colab": {
          "background_save": true
        },
        "id": "mN85W_LM_Ul4"
      },
      "outputs": [],
      "source": [
        "# evaluate percentage missing values\n",
        "imd.isnull().mean()*100"
      ]
    },
    {
      "cell_type": "markdown",
      "metadata": {
        "id": "4wRS7eLV_Ul4"
      },
      "source": [
        "We found lots of columns with missing values in the IMBD data; we will drop columns with missing entries in `title`, `director`, `plot keywords`.\n",
        "Below, over 36% of entries are missing in the `title` and `director` columns, we will drop such observations."
      ]
    },
    {
      "cell_type": "code",
      "execution_count": null,
      "metadata": {
        "colab": {
          "background_save": true
        },
        "id": "V89f88IJ_Ul4"
      },
      "outputs": [],
      "source": [
        "# summary statistics\n",
        "imd.describe().T"
      ]
    },
    {
      "cell_type": "code",
      "execution_count": null,
      "metadata": {
        "colab": {
          "background_save": true
        },
        "id": "RXBtrJM1_Ul5"
      },
      "outputs": [],
      "source": [
        "# drop missing data in title, director columns\n",
        "imd = imd.dropna(subset=['title_cast', 'director', 'plot_keywords']) "
      ]
    },
    {
      "cell_type": "code",
      "execution_count": null,
      "metadata": {
        "colab": {
          "background_save": true
        },
        "id": "syVmv1ug_Ul5"
      },
      "outputs": [],
      "source": [
        "# input missing values with average runtime for the director\n",
        "imd['runtime'].fillna(imd.groupby('director')['runtime'].mean()[0], inplace=True)"
      ]
    },
    {
      "cell_type": "markdown",
      "metadata": {
        "id": "iLBY_yCV_Ul5"
      },
      "source": [
        "The `budget` feature is redundant for this exercise; hence it will be dropped."
      ]
    },
    {
      "cell_type": "code",
      "execution_count": null,
      "metadata": {
        "colab": {
          "background_save": true
        },
        "id": "BFNeYiEO_Ul5"
      },
      "outputs": [],
      "source": [
        "# drop the budget column\n",
        "imd = imd.drop('budget', axis = 1)"
      ]
    },
    {
      "cell_type": "code",
      "execution_count": null,
      "metadata": {
        "colab": {
          "background_save": true
        },
        "id": "Cf3RpB7Q_Ul5"
      },
      "outputs": [],
      "source": [
        "# confirm data information\n",
        "imd.info()"
      ]
    },
    {
      "cell_type": "code",
      "execution_count": null,
      "metadata": {
        "colab": {
          "background_save": true
        },
        "id": "F3PjPa7Q_Ul5"
      },
      "outputs": [],
      "source": [
        "imd.head(2)"
      ]
    },
    {
      "cell_type": "code",
      "execution_count": null,
      "metadata": {
        "colab": {
          "background_save": true
        },
        "id": "OFu2nJtQ_Ul6"
      },
      "outputs": [],
      "source": [
        "\n",
        "\n",
        "def clean_char(data):\n",
        "    data = data.replace(' ', '_')\n",
        "    data = data.replace('|', ' ')\n",
        "    return data\n",
        "\n",
        "# clean title cast column\n",
        "imd['title_cast'] = imd['title_cast'].apply(clean_char)\n",
        "imd.head(2)"
      ]
    },
    {
      "cell_type": "code",
      "execution_count": null,
      "metadata": {
        "colab": {
          "background_save": true
        },
        "id": "eB2zvOVV_Ul6"
      },
      "outputs": [],
      "source": [
        "# clean title cast column\n",
        "imd['director'] = imd['director'].apply(clean_char)\n",
        "imd.head(2)"
      ]
    },
    {
      "cell_type": "code",
      "execution_count": null,
      "metadata": {
        "colab": {
          "background_save": true
        },
        "id": "6I9pClLg_Ul6"
      },
      "outputs": [],
      "source": [
        "# clean key words\n",
        "def clean_char2(data):\n",
        "    data = data.replace('|', ' ')\n",
        "    return data\n",
        "\n",
        "imd['plot_keywords'] = imd['plot_keywords'].apply(clean_char2)\n",
        "imd.head()"
      ]
    },
    {
      "cell_type": "markdown",
      "metadata": {
        "id": "xoFiKjpY_Ul6"
      },
      "source": [
        "**3.1.4 movie meta dataset**"
      ]
    },
    {
      "cell_type": "code",
      "execution_count": null,
      "metadata": {
        "colab": {
          "background_save": true
        },
        "id": "1567P0wk_Ul6"
      },
      "outputs": [],
      "source": [
        "mv.head()"
      ]
    },
    {
      "cell_type": "code",
      "execution_count": null,
      "metadata": {
        "colab": {
          "background_save": true
        },
        "id": "NHXdKCFq_Ul7"
      },
      "outputs": [],
      "source": [
        "\n",
        "\n",
        "\n",
        "\n",
        "\n",
        "\n",
        "# check data information\n",
        "mv.info()"
      ]
    },
    {
      "cell_type": "code",
      "execution_count": null,
      "metadata": {
        "colab": {
          "background_save": true
        },
        "id": "ZmZNJKNM_Ul7"
      },
      "outputs": [],
      "source": [
        "# clean genres column\n",
        "mv['genres'] = mv['genres'].apply(clean_char2)\n",
        "mv.head(2)"
      ]
    },
    {
      "cell_type": "markdown",
      "metadata": {
        "id": "p4Bk1McP_Ul7"
      },
      "source": [
        "None of the columns in the `movies` meta dataset has missing values."
      ]
    },
    {
      "cell_type": "markdown",
      "metadata": {
        "id": "H27-NBxJ_Ul7"
      },
      "source": [
        "**3.1.5 links data**"
      ]
    },
    {
      "cell_type": "code",
      "execution_count": null,
      "metadata": {
        "colab": {
          "background_save": true
        },
        "id": "ZJLtx8HC_Ul7"
      },
      "outputs": [],
      "source": [
        "# check for missing data\n",
        "ld.info()"
      ]
    },
    {
      "cell_type": "markdown",
      "metadata": {
        "id": "cIWHpyvI_Ul8"
      },
      "source": [
        "**3.1.6 train data**"
      ]
    },
    {
      "cell_type": "code",
      "execution_count": null,
      "metadata": {
        "colab": {
          "background_save": true
        },
        "id": "ZyQHunj2_Ul8"
      },
      "outputs": [],
      "source": [
        "tr.info()"
      ]
    },
    {
      "cell_type": "code",
      "execution_count": null,
      "metadata": {
        "colab": {
          "background_save": true
        },
        "id": "_Ohf4E7D_Ul8"
      },
      "outputs": [],
      "source": [
        "# percentage null values\n",
        "tr.isnull().mean()"
      ]
    },
    {
      "cell_type": "markdown",
      "metadata": {
        "id": "yMTyjNwy_Ul9"
      },
      "source": [
        "There are no null values in the `train` data."
      ]
    },
    {
      "cell_type": "markdown",
      "metadata": {
        "id": "AodwU6-x_Ul9"
      },
      "source": [
        "**3.1.7 test data**"
      ]
    },
    {
      "cell_type": "code",
      "execution_count": null,
      "metadata": {
        "colab": {
          "background_save": true
        },
        "id": "xvZr8Q7N_Ul9"
      },
      "outputs": [],
      "source": [
        "ts.info()"
      ]
    },
    {
      "cell_type": "code",
      "execution_count": null,
      "metadata": {
        "colab": {
          "background_save": true
        },
        "id": "-_2ohhzf_Ul9"
      },
      "outputs": [],
      "source": [
        "# percentage missing values\n",
        "ts.isnull().mean()"
      ]
    },
    {
      "cell_type": "markdown",
      "metadata": {
        "id": "ta6S09Ja_Ul-"
      },
      "source": [
        "**3.2 Joining related datasets - IMBD and movies**"
      ]
    },
    {
      "cell_type": "markdown",
      "metadata": {
        "id": "kilzmpoy_Ul-"
      },
      "source": [
        "**3.2.1 Merge IMBD with movies meta data to IMBD movies**"
      ]
    },
    {
      "cell_type": "code",
      "execution_count": null,
      "metadata": {
        "colab": {
          "background_save": true
        },
        "id": "4bt4j--S_Ul-"
      },
      "outputs": [],
      "source": [
        "# recall imbd movies\n",
        "print('Rows -', imd.shape[0], '\\nColumns -', imd.shape[1], '\\n')\n",
        "imd.head(2)"
      ]
    },
    {
      "cell_type": "code",
      "execution_count": null,
      "metadata": {
        "colab": {
          "background_save": true
        },
        "id": "7i_2iF4i_Ul-"
      },
      "outputs": [],
      "source": [
        "# recall movies meta data\n",
        "print('Rows -', mv.shape[0], '\\nColumns -', mv.shape[1], '\\n')\n",
        "mv.head(2)"
      ]
    },
    {
      "cell_type": "code",
      "execution_count": null,
      "metadata": {
        "colab": {
          "background_save": true
        },
        "id": "2DY1k2N4_Ul-"
      },
      "outputs": [],
      "source": [
        "# inner join IMBD and movies data\n",
        "mv_imd = imd.merge(mv, on = 'movieId')\n",
        "\n",
        "#check number of rows and columns availbale\n",
        "print('Rows -', mv_imd.shape[0], '\\nColumns -', mv_imd.shape[1], '\\n')\n",
        "\n",
        "mv_imd.head(2)"
      ]
    },
    {
      "cell_type": "markdown",
      "metadata": {
        "id": "RW1XAxf-_Ul-"
      },
      "source": [
        "**3.2.2 Adding tags and genome data**"
      ]
    },
    {
      "cell_type": "code",
      "execution_count": null,
      "metadata": {
        "colab": {
          "background_save": true
        },
        "id": "BiLYhGxe_Ul_"
      },
      "outputs": [],
      "source": [
        "# check tags\n",
        "print('Rows -', tg.shape[0], '\\nColumns -', tg.shape[1], '\\n')\n",
        "tg.head(2)"
      ]
    },
    {
      "cell_type": "code",
      "execution_count": null,
      "metadata": {
        "colab": {
          "background_save": true
        },
        "id": "Z-Z976-G_Ul_"
      },
      "outputs": [],
      "source": [
        "# Check genome\n",
        "print('Rows -', mv.shape[0], '\\nColumns -', mv.shape[1], '\\n')\n",
        "gs.head(2)"
      ]
    },
    {
      "cell_type": "code",
      "execution_count": null,
      "metadata": {
        "colab": {
          "background_save": true
        },
        "id": "dq0RvQ3t_Ul_"
      },
      "outputs": [],
      "source": [
        "mv_imd_tag = mv_imd.merge(tg, on = 'movieId', how = 'inner')\n",
        "\n",
        "print('Number of tag -', mv_imd_tag.shape[0])\n",
        "print('\\n')\n",
        "display(mv_imd_tag.isnull().sum())\n"
      ]
    },
    {
      "cell_type": "code",
      "execution_count": null,
      "metadata": {
        "colab": {
          "background_save": true
        },
        "id": "bfg6fzJA_Ul_"
      },
      "outputs": [],
      "source": [
        "gs.shape"
      ]
    },
    {
      "cell_type": "markdown",
      "metadata": {
        "id": "WV5wfIZh_UmA"
      },
      "source": [
        "**3.3 Exploring the merger data**"
      ]
    },
    {
      "cell_type": "code",
      "execution_count": null,
      "metadata": {
        "colab": {
          "base_uri": "https://localhost:8080/",
          "height": 483
        },
        "id": "HHzsvBsb_UmA",
        "outputId": "65607434-d6de-427c-ec3f-615b47907954"
      },
      "outputs": [
        {
          "output_type": "display_data",
          "data": {
            "text/plain": [
              "<Figure size 864x576 with 1 Axes>"
            ],
            "image/png": "[encoded data removed]"
          },
          "metadata": {
            "needs_background": "light"
          }
        }
      ],
      "source": [
        "plt.figure(figsize=(12, 8))\n",
        "(mv_imd.groupby('director')['movieId'].count()\n",
        " .sort_values(ascending=False).nlargest(10).plot.barh())\n",
        "plt.show()"
      ]
    },
    {
      "cell_type": "code",
      "execution_count": null,
      "metadata": {
        "colab": {
          "background_save": true
        },
        "id": "mYclGtua_UmA"
      },
      "outputs": [],
      "source": []
    }
  ],
  "metadata": {
    "colab": {
      "provenance": [],
      "include_colab_link": true
    },
    "kernelspec": {
      "display_name": "Python 3",
      "language": "python",
      "name": "python3"
    },
    "language_info": {
      "codemirror_mode": {
        "name": "ipython",
        "version": 3
      },
      "file_extension": ".py",
      "mimetype": "text/x-python",
      "name": "python",
      "nbconvert_exporter": "python",
      "pygments_lexer": "ipython3",
      "version": "3.7.12"
    }
  },
  "nbformat": 4,
  "nbformat_minor": 0
}